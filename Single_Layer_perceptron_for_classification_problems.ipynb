{
  "nbformat": 4,
  "nbformat_minor": 0,
  "metadata": {
    "colab": {
      "provenance": [],
      "authorship_tag": "ABX9TyNiUHCoO9ScRTxMjRuvrdqb",
      "include_colab_link": true
    },
    "kernelspec": {
      "name": "python3",
      "display_name": "Python 3"
    },
    "language_info": {
      "name": "python"
    }
  },
  "cells": [
    {
      "cell_type": "markdown",
      "metadata": {
        "id": "view-in-github",
        "colab_type": "text"
      },
      "source": [
        "<a href=\"https://colab.research.google.com/github/Nandhu2k3/Machine-learning-Regressions-predictions/blob/main/Single_Layer_perceptron_for_classification_problems.ipynb\" target=\"_parent\"><img src=\"https://colab.research.google.com/assets/colab-badge.svg\" alt=\"Open In Colab\"/></a>"
      ]
    },
    {
      "cell_type": "markdown",
      "source": [
        "Single Layer perceptron for classification **problems** "
      ],
      "metadata": {
        "id": "kcW3v6xAVerR"
      }
    },
    {
      "cell_type": "code",
      "execution_count": 2,
      "metadata": {
        "id": "hXt_W5qSUgWI"
      },
      "outputs": [],
      "source": [
        "import numpy as np\n",
        "import matplotlib.pyplot as plt\n",
        "from sklearn.datasets import load_breast_cancer\n",
        "from sklearn.model_selection import train_test_split\n"
      ]
    },
    {
      "cell_type": "code",
      "source": [
        "data = load_breast_cancer()\n"
      ],
      "metadata": {
        "id": "0kIVrEbRUin7"
      },
      "execution_count": 3,
      "outputs": []
    },
    {
      "cell_type": "code",
      "source": [
        "X_train, X_test, y_train, y_test = train_test_split(data.data, data.target, test_size=0.2, random_state=0)\n"
      ],
      "metadata": {
        "id": "07_su9jZVQa2"
      },
      "execution_count": 4,
      "outputs": []
    },
    {
      "cell_type": "code",
      "source": [
        "mean = X_train.mean(axis=0)\n",
        "std = X_train.std(axis=0)\n",
        "X_train = (X_train - mean) / std\n",
        "X_test = (X_test - mean) / std\n"
      ],
      "metadata": {
        "id": "MjqLTERiVSdT"
      },
      "execution_count": 5,
      "outputs": []
    },
    {
      "cell_type": "code",
      "source": [
        "mean = X_train.mean(axis=0)\n",
        "std = X_train.std(axis=0)\n",
        "X_train = (X_train - mean) / std\n",
        "X_test = (X_test - mean) / std\n"
      ],
      "metadata": {
        "id": "2VvIBzWaVVqv"
      },
      "execution_count": 6,
      "outputs": []
    },
    {
      "cell_type": "code",
      "source": [
        "class Perceptron:\n",
        "    def __init__(self, learning_rate=0.1, num_epochs=100):\n",
        "        self.learning_rate = learning_rate\n",
        "        self.num_epochs = num_epochs\n",
        "    \n",
        "    def fit(self, X, y):\n",
        "        self.weights = np.zeros(X.shape[1])\n",
        "        self.bias = 0\n",
        "        \n",
        "        for epoch in range(self.num_epochs):\n",
        "            for i in range(X.shape[0]):\n",
        "                # Calculate the activation function\n",
        "                activation = np.dot(self.weights, X[i]) + self.bias\n",
        "                \n",
        "                # Calculate the predicted label\n",
        "                if activation > 0:\n",
        "                    y_pred = 1\n",
        "                else:\n",
        "                    y_pred = -1\n",
        "                    \n",
        "                # Update the weights and bias if prediction is incorrect\n",
        "                if y[i]*y_pred <= 0:\n",
        "                    self.weights += self.learning_rate * y[i] * X[i]\n",
        "                    self.bias += self.learning_rate * y[i]\n",
        "    \n",
        "    def predict(self, X):\n",
        "        y_pred = []\n",
        "        for i in range(X.shape[0]):\n",
        "            activation = np.dot(self.weights, X[i]) + self.bias\n",
        "            if activation > 0:\n",
        "                y_pred.append(1)\n",
        "            else:\n",
        "                y_pred.append(-1)\n",
        "        return np.array(y_pred)\n"
      ],
      "metadata": {
        "id": "wxWHTIQhVXLx"
      },
      "execution_count": 7,
      "outputs": []
    },
    {
      "cell_type": "code",
      "source": [
        "perceptron = Perceptron()\n",
        "perceptron.fit(X_train, y_train)\n"
      ],
      "metadata": {
        "id": "55FGTZOxVY6y"
      },
      "execution_count": 8,
      "outputs": []
    },
    {
      "cell_type": "code",
      "source": [
        "y_pred = perceptron.predict(X_test)\n"
      ],
      "metadata": {
        "id": "wMvHfedQVa01"
      },
      "execution_count": 9,
      "outputs": []
    },
    {
      "cell_type": "code",
      "source": [
        "accuracy = np.mean(y_pred == y_test)\n",
        "print(\"Accuracy:\", accuracy)\n"
      ],
      "metadata": {
        "colab": {
          "base_uri": "https://localhost:8080/"
        },
        "id": "YNr5kyKfVcMP",
        "outputId": "5f25eb05-8f5b-4ad4-835f-7e01f69f6894"
      },
      "execution_count": 10,
      "outputs": [
        {
          "output_type": "stream",
          "name": "stdout",
          "text": [
            "Accuracy: 0.5877192982456141\n"
          ]
        }
      ]
    },
    {
      "cell_type": "code",
      "source": [],
      "metadata": {
        "id": "SA0-AJtnVdYo"
      },
      "execution_count": null,
      "outputs": []
    }
  ]
}
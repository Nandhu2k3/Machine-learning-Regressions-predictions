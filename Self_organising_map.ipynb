{
  "nbformat": 4,
  "nbformat_minor": 0,
  "metadata": {
    "colab": {
      "provenance": [],
      "authorship_tag": "ABX9TyNwWWYuFI4FFxe/p9qDXWsz",
      "include_colab_link": true
    },
    "kernelspec": {
      "name": "python3",
      "display_name": "Python 3"
    },
    "language_info": {
      "name": "python"
    }
  },
  "cells": [
    {
      "cell_type": "markdown",
      "metadata": {
        "id": "view-in-github",
        "colab_type": "text"
      },
      "source": [
        "<a href=\"https://colab.research.google.com/github/Nandhu2k3/Machine-learning-Regressions-predictions/blob/main/Self_organising_map.ipynb\" target=\"_parent\"><img src=\"https://colab.research.google.com/assets/colab-badge.svg\" alt=\"Open In Colab\"/></a>"
      ]
    },
    {
      "cell_type": "code",
      "execution_count": 1,
      "metadata": {
        "id": "kwgzJRVt5w3E"
      },
      "outputs": [],
      "source": [
        "import numpy as np\n",
        "import matplotlib.pyplot as plt\n"
      ]
    },
    {
      "cell_type": "code",
      "source": [
        "# Create a self-organizing map with the given size and input dimensionality\n",
        "def create_som(x_size, y_size, input_size):\n",
        "    som = np.random.rand(x_size, y_size, input_size)\n",
        "    return som"
      ],
      "metadata": {
        "id": "4-ykXlQM50JT"
      },
      "execution_count": 11,
      "outputs": []
    },
    {
      "cell_type": "code",
      "source": [
        "# Find the best matching unit (BMU) for the given input vector\n",
        "def find_bmu(som, input_vec):\n",
        "    dists = np.sqrt(np.sum((som - input_vec)**2, axis=2))\n",
        "    bmu = np.unravel_index(np.argmin(dists), dists.shape)\n",
        "    return bmu\n"
      ],
      "metadata": {
        "id": "BPt1bB535_mL"
      },
      "execution_count": 12,
      "outputs": []
    },
    {
      "cell_type": "code",
      "source": [
        "# Update the weights of the self-organizing map based on the given input vector and BMU\n",
        "def update_weights(som, input_vec, bmu, learning_rate, radius):\n",
        "    dists = np.sqrt(np.sum((np.indices(som.shape[:2]) - np.array(bmu)[:, np.newaxis, np.newaxis])**2, axis=0))\n",
        "    kernel = np.exp(-dists**2 / (2 * radius**2))\n",
        "    som += learning_rate * kernel[:, :, np.newaxis] * (input_vec - som)\n",
        "    return som"
      ],
      "metadata": {
        "id": "IgR-w1c-6CfK"
      },
      "execution_count": 13,
      "outputs": []
    },
    {
      "cell_type": "code",
      "source": [
        "# Train the self-organizing map on the given dataset for the given number of epochs\n",
        "def train_som(som, data, num_epochs, init_learning_rate=0.1, init_radius=None):\n",
        "    if init_radius is None:\n",
        "        init_radius = max(som.shape) / 2\n",
        "    for epoch in range(num_epochs):\n",
        "        # Compute the learning rate and radius for this epoch\n",
        "        learning_rate = init_learning_rate * np.exp(-epoch / num_epochs)\n",
        "        radius = init_radius * np.exp(-epoch / num_epochs)\n",
        "        # Update the weights of the self-organizing map for each input vector in the dataset\n",
        "        for input_vec in data:\n",
        "            bmu = find_bmu(som, input_vec)\n",
        "            som = update_weights(som, input_vec, bmu, learning_rate, radius)\n",
        "    return som"
      ],
      "metadata": {
        "id": "kmSFaQq26FAH"
      },
      "execution_count": 15,
      "outputs": []
    },
    {
      "cell_type": "code",
      "source": [
        "# Generate a dataset of random vectors\n",
        "data = np.random.rand(100, 2)"
      ],
      "metadata": {
        "id": "lgJVm6Jw6IYO"
      },
      "execution_count": 16,
      "outputs": []
    },
    {
      "cell_type": "code",
      "source": [
        "# Create a self-organizing map with a 10x10 grid and 2 input features\n",
        "som = create_som(10, 10, 2)\n"
      ],
      "metadata": {
        "id": "Y09Df-JB60og"
      },
      "execution_count": 17,
      "outputs": []
    },
    {
      "cell_type": "code",
      "source": [
        "# Train the self-organizing map on the dataset for 100 epochs\n",
        "som = train_som(som, data, 100)\n"
      ],
      "metadata": {
        "id": "vw9JLtvS7S87"
      },
      "execution_count": 18,
      "outputs": []
    },
    {
      "cell_type": "code",
      "source": [
        "# Select a feature to visualize (e.g. the first input feature)\n",
        "feature_idx = 0\n"
      ],
      "metadata": {
        "id": "R8SZntIv7Vcu"
      },
      "execution_count": 20,
      "outputs": []
    },
    {
      "cell_type": "code",
      "source": [
        "# Plot the self-organizing map using a color code to represent the selected feature\n",
        "plt.scatter(som[:, :, feature_idx], np.zeros_like(som[:, :, feature_idx]))\n",
        "plt.show()"
      ],
      "metadata": {
        "colab": {
          "base_uri": "https://localhost:8080/",
          "height": 430
        },
        "id": "6mOVVSBj7YLs",
        "outputId": "a33a81eb-3b06-47f5-f233-05dc052e947e"
      },
      "execution_count": 21,
      "outputs": [
        {
          "output_type": "display_data",
          "data": {
            "text/plain": [
              "<Figure size 640x480 with 1 Axes>"
            ],
            "image/png": "[encoded data removed]"
          },
          "metadata": {}
        }
      ]
    },
    {
      "cell_type": "code",
      "source": [],
      "metadata": {
        "id": "hWND2FAC7yXq"
      },
      "execution_count": null,
      "outputs": []
    }
  ]
}
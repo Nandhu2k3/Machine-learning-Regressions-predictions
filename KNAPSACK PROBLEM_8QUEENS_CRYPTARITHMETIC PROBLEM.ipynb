{
  "nbformat": 4,
  "nbformat_minor": 0,
  "metadata": {
    "colab": {
      "provenance": [],
      "authorship_tag": "ABX9TyPneB5xU40fzlMrXrAtrm3f",
      "include_colab_link": true
    },
    "kernelspec": {
      "name": "python3",
      "display_name": "Python 3"
    },
    "language_info": {
      "name": "python"
    }
  },
  "cells": [
    {
      "cell_type": "markdown",
      "metadata": {
        "id": "view-in-github",
        "colab_type": "text"
      },
      "source": [
        "<a href=\"https://colab.research.google.com/github/Nandhu2k3/Nandhu2k3/blob/main/KNAPSACK%20PROBLEM_8QUEENS_CRYPTARITHMETIC%20PROBLEM.ipynb\" target=\"_parent\"><img src=\"https://colab.research.google.com/assets/colab-badge.svg\" alt=\"Open In Colab\"/></a>"
      ]
    },
    {
      "cell_type": "code",
      "execution_count": null,
      "metadata": {
        "id": "XY3cHJEaZgnk"
      },
      "outputs": [],
      "source": [
        "#KNAPSACK PROBLEM\n",
        "\n",
        "cost = [[0, 0, 0, 0, 0, 0],\n",
        "        [0, 0, 0, 0, 0, 0],\n",
        "        [0, 0, 0, 0, 0, 0],\n",
        "        [0, 0, 0, 0, 0, 0],\n",
        "        [0, 0, 0, 0, 0, 0]]\n",
        "\n",
        "def knapsack(n, W, wm, vm):\n",
        "  for i in range(1, n+1):\n",
        "    for w in range(1, W+1):\n",
        "      if(wm[i] > w):\n",
        "        cost[i][w] = cost[i-1][w]\n",
        "      else:\n",
        "        if ((vm[i]+cost[i-1][w-wm[i]]) > cost[i-1][w]):\n",
        "          cost[i][w] = vm[i] + cost[i-1][w-wm[i]]\n",
        "        else:\n",
        "          cost[i][w] = cost[i-1][w]\n",
        "  return cost[n][W]\n",
        "\n",
        "if __name__ == '__main__':\n",
        "  # element at index 0 is fake. matrix starting from 1.\n",
        "  wm = [0, 3, 2, 4, 1]\n",
        "  vm = [0, 8, 3, 9, 6]\n",
        "  print(knapsack(4, 5, wm, vm))"
      ]
    },
    {
      "cell_type": "code",
      "source": [
        "\n",
        "#8QUEEN PROBLEM\n",
        "\n",
        "N = 8 # (size of the chessboard)\n",
        " \n",
        "def solveNQueens(board, col):\n",
        "    if col == N:\n",
        "        print(board)\n",
        "        return True\n",
        "    for i in range(N):\n",
        "        if isSafe(board, i, col):\n",
        "            board[i][col] = 1\n",
        "            if solveNQueens(board, col + 1):\n",
        "                return True\n",
        "            board[i][col] = 0\n",
        "    return False\n",
        " \n",
        "def isSafe(board, row, col):\n",
        "    for x in range(col):\n",
        "        if board[row][x] == 1:\n",
        "            return False\n",
        "    for x, y in zip(range(row, -1, -1), range(col, -1, -1)):\n",
        "        if board[x][y] == 1:\n",
        "            return False\n",
        "    for x, y in zip(range(row, N, 1), range(col, -1, -1)):\n",
        "        if board[x][y] == 1:\n",
        "            return False\n",
        "    return True\n",
        " \n",
        "board = [[0 for x in range(N)] for y in range(N)]\n",
        "if not solveNQueens(board, 0):\n",
        "    print(\"No solution found\")\n"
      ],
      "metadata": {
        "colab": {
          "base_uri": "https://localhost:8080/"
        },
        "id": "LApigaiRcmfT",
        "outputId": "2ed1ec05-dd12-4bc4-83e3-044b4ea32e0f"
      },
      "execution_count": 16,
      "outputs": [
        {
          "output_type": "stream",
          "name": "stdout",
          "text": [
            "[[1, 0, 0, 0, 0, 0, 0, 0], [0, 0, 0, 0, 0, 0, 1, 0], [0, 0, 0, 0, 1, 0, 0, 0], [0, 0, 0, 0, 0, 0, 0, 1], [0, 1, 0, 0, 0, 0, 0, 0], [0, 0, 0, 1, 0, 0, 0, 0], [0, 0, 0, 0, 0, 1, 0, 0], [0, 0, 1, 0, 0, 0, 0, 0]]\n"
          ]
        }
      ]
    },
    {
      "cell_type": "code",
      "source": [
        "import json"
      ],
      "metadata": {
        "id": "opeAUit2cC-9"
      },
      "execution_count": null,
      "outputs": []
    },
    {
      "cell_type": "code",
      "source": [
        "#CRYPTARITHMETIC PROBLEM SOLVER\n",
        "def find_value(word, assigned):\n",
        "  num = 0\n",
        "  for char in word:\n",
        "    num = num * 10\n",
        "    num += assigned[char]\n",
        "  return num\n",
        "\n",
        "\n",
        "def is_valid_assignment(word1, word2, result, assigned):\n",
        "  # First letter of any word cannot be zero.\n",
        "  if assigned[word1[0]] == 0 or assigned[word2[0]] == 0 or assigned[\n",
        "      result[0]] == 0:\n",
        "    return False\n",
        "  return True\n",
        "\n",
        "\n",
        "def _solve(word1, word2, result, letters, assigned, solutions):\n",
        "  if not letters:\n",
        "    if is_valid_assignment(word1, word2, result, assigned):\n",
        "      num1 = find_value(word1, assigned)\n",
        "      num2 = find_value(word2, assigned)\n",
        "      num_result = find_value(result, assigned)\n",
        "      if num1 + num2 == num_result:\n",
        "        solutions.append((f'{num1} + {num2} = {num_result}', assigned.copy()))\n",
        "    return\n",
        "\n",
        "  for num in range(10):\n",
        "    if num not in assigned.values():\n",
        "      cur_letter = letters.pop()\n",
        "      assigned[cur_letter] = num\n",
        "      _solve(word1, word2, result, letters, assigned, solutions)\n",
        "      assigned.pop(cur_letter)\n",
        "      letters.append(cur_letter)\n",
        "\n",
        "\n",
        "def solve(word1, word2, result):\n",
        "  letters = sorted(set(word1) | set(word2) | set(result))\n",
        "  if len(result) > max(len(word1), len(word2)) + 1 or len(letters) > 10:\n",
        "    print('0 Solutions!')\n",
        "    return\n",
        "\n",
        "  solutions = []\n",
        "  _solve(word1, word2, result, letters, {}, solutions)\n",
        "  if solutions:\n",
        "    print('\\nSolutions:')\n",
        "    for soln in solutions:\n",
        "      print(f'{soln[0]}\\t{soln[1]}')\n",
        "\n",
        "\n",
        "if __name__ == '__main__':\n",
        "  print('CRYPTARITHMETIC PUZZLE SOLVER')\n",
        "  print('WORD1 + WORD2 = RESULT')\n",
        "  word1 = input('Enter WORD1: ').upper()\n",
        "  word2 = input('Enter WORD2: ').upper()\n",
        "  result = input('Enter RESULT: ').upper()\n",
        "\n",
        "  if not word1.isalpha() or not word2.isalpha() or not result.isalpha():\n",
        "    raise TypeError('Inputs should ony consists of alphabets.')\n",
        "\n",
        "  solve(word1, word2, result)"
      ],
      "metadata": {
        "colab": {
          "base_uri": "https://localhost:8080/"
        },
        "id": "uZe6Sf9lcqv-",
        "outputId": "a5d74d11-685d-40d6-9653-7e01486e4977"
      },
      "execution_count": null,
      "outputs": [
        {
          "output_type": "stream",
          "name": "stdout",
          "text": [
            "CRYPTARITHMETIC PUZZLE SOLVER\n",
            "WORD1 + WORD2 = RESULT\n"
          ]
        }
      ]
    },
    {
      "cell_type": "code",
      "source": [],
      "metadata": {
        "id": "bbrK4sRte9vp"
      },
      "execution_count": null,
      "outputs": []
    }
  ]
}